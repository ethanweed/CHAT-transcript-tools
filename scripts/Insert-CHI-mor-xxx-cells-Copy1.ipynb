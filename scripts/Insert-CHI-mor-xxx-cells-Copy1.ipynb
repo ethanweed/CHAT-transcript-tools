{
 "cells": [
  {
   "cell_type": "code",
   "execution_count": 21,
   "metadata": {},
   "outputs": [],
   "source": [
    "from os import chdir as cd\n",
    "pathin = '/Users/ethan/Dropbox/Research/Projects/Projects_current/uconn/text_processing/POS-Letty/'\n",
    "file = '_files-with-errors.txt'\n",
    "\n",
    "\n",
    "cd(pathin)\n",
    "\n",
    "with open(file,'r') as f:\n",
    "    ef = f.read()\n",
    "\n",
    "ef = ef.replace('list index out of range in ', '')\n",
    "ef = ef.split('\\n')\n",
    "\n",
    "pathin = '/Users/ethan/Dropbox/Research/Projects/Projects_current/uconn/text_processing/raw_cohorts_2_3/'\n",
    "cd(pathin)\n",
    "\n",
    "removelist = ['\\t', '\\r']\n",
    "file = 'Lester.Visit6.txt'\n",
    "with open(file,'r') as f:\n",
    "    text = f.read()\n",
    "    for item in removelist:\n",
    "        text = text.replace(item, '')\n",
    "text = text.split('\\n')\n",
    "print(text)\n",
    "\n",
    "insertion_points = []\n",
    "for i, val in enumerate(text):\n",
    "    if val == '*CHI:xxx .':\n",
    "        ip = i+1\n",
    "        insertion_points.append(ip)\n",
    "\n",
    "\n",
    "\n",
    "for ip in insertion_points:\n",
    "    text.insert(ip, '%mor:unk|xxx . ')"
   ]
  },
  {
   "cell_type": "code",
   "execution_count": null,
   "metadata": {},
   "outputs": [],
   "source": []
  }
 ],
 "metadata": {
  "kernelspec": {
   "display_name": "Python 3",
   "language": "python",
   "name": "python3"
  },
  "language_info": {
   "codemirror_mode": {
    "name": "ipython",
    "version": 3
   },
   "file_extension": ".py",
   "mimetype": "text/x-python",
   "name": "python",
   "nbconvert_exporter": "python",
   "pygments_lexer": "ipython3",
   "version": "3.6.8"
  }
 },
 "nbformat": 4,
 "nbformat_minor": 2
}
